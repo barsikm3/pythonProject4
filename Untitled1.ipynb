{
 "cells": [
  {
   "cell_type": "code",
   "execution_count": null,
   "id": "0b660c17-999b-4177-a01b-2ef101573855",
   "metadata": {},
   "outputs": [],
   "source": [
    "import imaplib\n",
    "import email\n",
    "from email.header import decode_header\n",
    "import base64\n",
    "from bs4 import BeautifulSoup\n",
    "import getpass \n",
    "import re\n",
    "import pandas as pd\n"
   ]
  },
  {
   "cell_type": "code",
   "execution_count": null,
   "id": "38dac3b9-b3e2-4859-8b04-ebecc71b8ac5",
   "metadata": {},
   "outputs": [],
   "source": [
    "mail_pass = \"QWghbynth17\"\n",
    "username = \"barsik2gtii@yandex.ru\"\n",
    "imap_server = \"imap.yandex.ru\"\n",
    "my_mail = imaplib.IMAP4_SSL(imap_server)\n",
    "my_mail.login(username, mail_pass)\n"
   ]
  },
  {
   "cell_type": "code",
   "execution_count": null,
   "id": "99f180d8-1865-49f7-876d-e8b4bd42c819",
   "metadata": {},
   "outputs": [],
   "source": [
    "imap.list()"
   ]
  },
  {
   "cell_type": "code",
   "execution_count": null,
   "id": "abf10ea1",
   "metadata": {},
   "outputs": [],
   "source": [
    "my_mail.select(\"INBOX\")"
   ]
  },
  {
   "cell_type": "code",
   "execution_count": null,
   "id": "bc33bd87",
   "metadata": {},
   "outputs": [],
   "source": [
    "data = my_mail.search(None, 'ALL')\n"
   ]
  },
  {
   "cell_type": "code",
   "execution_count": null,
   "id": "4fd1403d",
   "metadata": {},
   "outputs": [],
   "source": [
    "mail_ids = data[1]\n",
    "id_list = mail_ids[0].split()\n",
    "len(id_list)#This should be equal to the total number of emails you have seen above\n",
    "first_email_id = int(id_list[0])\n",
    "latest_email_id = int(id_list[-1])"
   ]
  },
  {
   "cell_type": "code",
   "execution_count": null,
   "id": "c1b38322",
   "metadata": {},
   "outputs": [],
   "source": []
  },
  {
   "cell_type": "code",
   "execution_count": null,
   "id": "189caf71",
   "metadata": {},
   "outputs": [],
   "source": [
    "\n"
   ]
  },
  {
   "cell_type": "code",
   "execution_count": null,
   "id": "665a973a",
   "metadata": {},
   "outputs": [],
   "source": []
  },
  {
   "cell_type": "code",
   "execution_count": null,
   "id": "40db0b46",
   "metadata": {},
   "outputs": [],
   "source": []
  },
  {
   "cell_type": "code",
   "execution_count": null,
   "id": "1daa68a3",
   "metadata": {},
   "outputs": [],
   "source": []
  },
  {
   "cell_type": "code",
   "execution_count": null,
   "id": "c416f386",
   "metadata": {},
   "outputs": [],
   "source": []
  }
 ],
 "metadata": {
  "kernelspec": {
   "display_name": "Python 3 (ipykernel)",
   "language": "python",
   "name": "python3"
  },
  "language_info": {
   "codemirror_mode": {
    "name": "ipython",
    "version": 3
   },
   "file_extension": ".py",
   "mimetype": "text/x-python",
   "name": "python",
   "nbconvert_exporter": "python",
   "pygments_lexer": "ipython3",
   "version": "3.11.0"
  }
 },
 "nbformat": 4,
 "nbformat_minor": 5
}
